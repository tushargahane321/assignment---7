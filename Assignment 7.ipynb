{
 "cells": [
  {
   "cell_type": "code",
   "execution_count": null,
   "id": "e703e0d6-a981-449f-be36-12163fde75a6",
   "metadata": {},
   "outputs": [],
   "source": [
    "#(1)_Create a function which will take a list as an argument and return the product of all the numbers after creating a flat list."
   ]
  },
  {
   "cell_type": "code",
   "execution_count": 35,
   "id": "3aa8ac25-3197-4ae5-9a64-7e8a0b0a9aca",
   "metadata": {},
   "outputs": [
    {
     "name": "stdout",
     "output_type": "stream",
     "text": [
      "[1, 2, 3, 4, 44, 55, 66, 34, 56, 78, 89, 34, 1, 2, 3, 1, 34, 55, 67, 78, 89, 4, 45, 22, 61, 34, 56]\n"
     ]
    }
   ],
   "source": [
    "list1 = [1,2,3,4,[44,55,66,True],False,(34,56,78,89,34),{1,2,3,3,2,1},{1:34, \"key2\":[55,67,78,89],4:(45,22,61,34)},[56,'data science'],'machine learning']\n",
    "\n",
    "def flat_list(list1):\n",
    "    flate = []\n",
    "    for i in list1:\n",
    "        if type(i) == int  or type(i) == float:\n",
    "            flate.append(i)\n",
    "        elif type(i) == list or type(i) == set or type(i) == tuple:\n",
    "            for j in i:\n",
    "                if type(j) == int or type(j) == float:\n",
    "                    flate.append(j)\n",
    "        elif type(i) == dict:\n",
    "            for k in i.items():\n",
    "                if type(k[0]) == int  or type(k[0]) == float:\n",
    "                    flate.append(k[0])\n",
    "                if type(k[1]) == int  or type(k[1]) == float:\n",
    "                    flate.append(k[1])\n",
    "                else:\n",
    "                    for l in k[1]:\n",
    "                        flate.append(l)\n",
    "\n",
    "    return flate\n",
    "\n",
    "a = flat_list(list1)\n",
    "print(a)"
   ]
  },
  {
   "cell_type": "code",
   "execution_count": null,
   "id": "3e9004aa-2f0e-4bd7-9627-b1d3ac62f31b",
   "metadata": {},
   "outputs": [],
   "source": [
    "#(2)_ Write a python program for encrypting a message sent to you by your friend. The logic of encryption\n",
    "should be such that, for a the output should be z. For b, the output should be y. For c, the output should\n",
    "be x respectively.Also, the whitespace should be replaced with a dollar sign. Keep the punctuation\n",
    "marks unchanged.\n",
    "Input Sentence: I want to become a Data Scientist."
   ]
  },
  {
   "cell_type": "code",
   "execution_count": 53,
   "id": "e0a42c11-709d-4d06-b47b-a9e59782b9d9",
   "metadata": {},
   "outputs": [
    {
     "data": {
      "text/plain": [
       "'I$dzmg$gl$yvxlnv$z$Dzgz$Sxrvmgrhg.'"
      ]
     },
     "execution_count": 53,
     "metadata": {},
     "output_type": "execute_result"
    }
   ],
   "source": [
    "import string\n",
    "def encrypt(msg):\n",
    "    #alphabets = list(string.ascii_lowercase)\n",
    "    alphabets = [' ','a','b','c','d','e','f','g','h','i','j','k','l','m','n','o','p','q','r','s','t','u','v','w','x','y','z','$']\n",
    "    reverse = alphabets[::-1]\n",
    "    op = ''\n",
    "    for i in msg:\n",
    "        if i in alphabets:\n",
    "            op = op + reverse[alphabets.index(i)]\n",
    "        else:\n",
    "            op = op + i\n",
    "    return op\n",
    "\n",
    "encrypt('I want to become a Data Scientist.')"
   ]
  },
  {
   "cell_type": "code",
   "execution_count": null,
   "id": "b31a1772-d02b-4d9b-bf2d-9ae058896298",
   "metadata": {},
   "outputs": [],
   "source": []
  }
 ],
 "metadata": {
  "kernelspec": {
   "display_name": "Python 3 (ipykernel)",
   "language": "python",
   "name": "python3"
  },
  "language_info": {
   "codemirror_mode": {
    "name": "ipython",
    "version": 3
   },
   "file_extension": ".py",
   "mimetype": "text/x-python",
   "name": "python",
   "nbconvert_exporter": "python",
   "pygments_lexer": "ipython3",
   "version": "3.10.8"
  }
 },
 "nbformat": 4,
 "nbformat_minor": 5
}
